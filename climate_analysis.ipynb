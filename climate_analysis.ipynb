{
 "cells": [
  {
   "cell_type": "code",
   "execution_count": 11,
   "metadata": {},
   "outputs": [],
   "source": [
    "%matplotlib inline\n",
    "from matplotlib import style\n",
    "style.use('fivethirtyeight')\n",
    "#plt.style.use('default')\n",
    "import matplotlib.pyplot as plt"
   ]
  },
  {
   "cell_type": "code",
   "execution_count": 12,
   "metadata": {},
   "outputs": [],
   "source": [
    "import numpy as np\n",
    "import pandas as pd"
   ]
  },
  {
   "cell_type": "code",
   "execution_count": 13,
   "metadata": {},
   "outputs": [],
   "source": [
    "import datetime as dt"
   ]
  },
  {
   "cell_type": "markdown",
   "metadata": {},
   "source": [
    "# Reflect Tables into SQLAlchemy ORM"
   ]
  },
  {
   "cell_type": "code",
   "execution_count": 14,
   "metadata": {},
   "outputs": [],
   "source": [
    "# Python SQL toolkit and Object Relational Mapper\n",
    "import sqlalchemy\n",
    "from sqlalchemy.ext.automap import automap_base\n",
    "from sqlalchemy.orm import Session\n",
    "from sqlalchemy import create_engine, func"
   ]
  },
  {
   "cell_type": "code",
   "execution_count": 15,
   "metadata": {},
   "outputs": [],
   "source": [
    "#SQLAlchemy Create Engine\n",
    "engine = create_engine(\"sqlite:///hawaii.sqlite\")"
   ]
  },
  {
   "cell_type": "code",
   "execution_count": 16,
   "metadata": {},
   "outputs": [],
   "source": [
    "# reflect an existing database into a new model\n",
    "Base = automap_base()\n",
    "# reflect the tables\n",
    "Base.prepare(engine, reflect=True)"
   ]
  },
  {
   "cell_type": "code",
   "execution_count": 17,
   "metadata": {},
   "outputs": [
    {
     "data": {
      "text/plain": [
       "['measurement', 'station']"
      ]
     },
     "execution_count": 17,
     "metadata": {},
     "output_type": "execute_result"
    }
   ],
   "source": [
    "# We can view all of the classes that automap found\n",
    "Base.classes.keys()"
   ]
  },
  {
   "cell_type": "code",
   "execution_count": 18,
   "metadata": {},
   "outputs": [],
   "source": [
    "# Save references to each table\n",
    "Measurement = Base.classes.measurement\n",
    "Station = Base.classes.station"
   ]
  },
  {
   "cell_type": "code",
   "execution_count": 19,
   "metadata": {},
   "outputs": [],
   "source": [
    "# Create our session (link) from Python to the DB\n",
    "session = Session(engine)"
   ]
  },
  {
   "cell_type": "markdown",
   "metadata": {},
   "source": [
    "# Exploratory Climate Analysis"
   ]
  },
  {
   "cell_type": "code",
   "execution_count": 20,
   "metadata": {
    "scrolled": true
   },
   "outputs": [
    {
     "data": {
      "image/png": "[encoded data removed]",
      "text/plain": [
       "<Figure size 432x288 with 1 Axes>"
      ]
     },
     "metadata": {},
     "output_type": "display_data"
    }
   ],
   "source": [
    "# Design a query to retrieve the last 12 months of precipitation data and plot the results. \n",
    "#Starting from the last data point in the database. \n",
    "\n",
    "# Calculate the date one year from the last date in data set.\n",
    "prev_year = dt.date(2017, 8, 23) - dt.timedelta(days=365)\n",
    "# Perform a query to retrieve the data and precipitation scores\n",
    "results = []\n",
    "results2 =[]\n",
    "results = session.query(Measurement.date, Measurement.prcp).filter(Measurement.date >= prev_year).all()\n",
    "results2 = session.query(Measurement.tobs).filter(Measurement.date >= prev_year).all()\n",
    "#print(results)\n",
    "# Save the query results as a Pandas DataFrame and set the index to the date column\n",
    "df = pd.DataFrame(results, columns=['date','precipitation'])\n",
    "df.set_index(df['date'], inplace=True)\n",
    "# Sort the dataframe by date\n",
    "df = df.sort_index()\n",
    "# Use Pandas Plotting with Matplotlib to plot the data\n",
    "df.plot(rot=45)\n",
    "plt.xticks()\n",
    "plt.show()"
   ]
  },
  {
   "cell_type": "code",
   "execution_count": 21,
   "metadata": {},
   "outputs": [
    {
     "name": "stdout",
     "output_type": "stream",
     "text": [
      "[(81.0,), (79.0,), (80.0,), (79.0,), (77.0,), (78.0,), (78.0,), (79.0,), (80.0,), (81.0,), (80.0,), (79.0,), (75.0,), (79.0,), (76.0,), (76.0,), (80.0,), (79.0,), (78.0,), (76.0,), (78.0,), (78.0,), (75.0,), (79.0,), (80.0,), (79.0,), (81.0,), (77.0,), (77.0,), (78.0,), (76.0,), (82.0,), (81.0,), (78.0,), (80.0,), (80.0,), (79.0,), (80.0,), (80.0,), (80.0,), (79.0,), (79.0,), (79.0,), (80.0,), (80.0,), (79.0,), (78.0,), (76.0,), (75.0,), (80.0,), (80.0,), (79.0,), (80.0,), (79.0,), (78.0,), (78.0,), (80.0,), (81.0,), (79.0,), (77.0,), (79.0,), (78.0,), (77.0,), (77.0,), (78.0,), (77.0,), (78.0,), (77.0,), (76.0,), (77.0,), (77.0,), (77.0,), (77.0,), (77.0,), (76.0,), (75.0,), (71.0,), (71.0,), (71.0,), (71.0,), (72.0,), (71.0,), (72.0,), (77.0,), (77.0,), (77.0,), (77.0,), (77.0,), (75.0,), (76.0,), (76.0,), (75.0,), (72.0,), (74.0,), (75.0,), (73.0,), (76.0,), (75.0,), (68.0,), (75.0,), (75.0,), (72.0,), (69.0,), (71.0,), (68.0,), (67.0,), (69.0,), (73.0,), (70.0,), (70.0,), (70.0,), (66.0,), (67.0,), (70.0,), (66.0,), (62.0,), (71.0,), (73.0,), (69.0,), (77.0,), (74.0,), (71.0,), (72.0,), (74.0,), (74.0,), (74.0,), (74.0,), (71.0,), (73.0,), (69.0,), (66.0,), (62.0,), (66.0,), (63.0,), (62.0,), (63.0,), (64.0,), (66.0,), (60.0,), (64.0,), (63.0,), (78.0,), (67.0,), (67.0,), (65.0,), (66.0,), (67.0,), (66.0,), (72.0,), (73.0,), (71.0,), (72.0,), (72.0,), (72.0,), (69.0,), (72.0,), (71.0,), (65.0,), (64.0,), (67.0,), (67.0,), (68.0,), (70.0,), (61.0,), (65.0,), (72.0,), (73.0,), (76.0,), (64.0,), (62.0,), (61.0,), (71.0,), (69.0,), (68.0,), (74.0,), (75.0,), (75.0,), (71.0,), (71.0,), (68.0,), (69.0,), (71.0,), (70.0,), (72.0,), (74.0,), (70.0,), (64.0,), (65.0,), (72.0,), (74.0,), (66.0,), (73.0,), (69.0,), (74.0,), (71.0,), (69.0,), (68.0,), (71.0,), (72.0,), (68.0,), (71.0,), (74.0,), (71.0,), (71.0,), (71.0,), (70.0,), (72.0,), (69.0,), (73.0,), (75.0,), (75.0,), (74.0,), (70.0,), (73.0,), (76.0,), (76.0,), (75.0,), (77.0,), (76.0,), (77.0,), (76.0,), (76.0,), (76.0,), (77.0,), (76.0,), (78.0,), (77.0,), (77.0,), (77.0,), (72.0,), (75.0,), (79.0,), (78.0,), (77.0,), (75.0,), (73.0,), (74.0,), (74.0,), (75.0,), (74.0,), (78.0,), (73.0,), (76.0,), (77.0,), (77.0,), (77.0,), (77.0,), (78.0,), (76.0,), (72.0,), (63.0,), (75.0,), (78.0,), (78.0,), (78.0,), (79.0,), (79.0,), (79.0,), (77.0,), (78.0,), (78.0,), (79.0,), (79.0,), (77.0,), (78.0,), (78.0,), (78.0,), (73.0,), (76.0,), (78.0,), (76.0,), (77.0,), (87.0,), (77.0,), (77.0,), (74.0,), (76.0,), (75.0,), (76.0,), (79.0,), (79.0,), (79.0,), (79.0,), (79.0,), (80.0,), (79.0,), (79.0,), (80.0,), (80.0,), (77.0,), (79.0,), (83.0,), (80.0,), (80.0,), (78.0,), (79.0,), (80.0,), (77.0,), (80.0,), (78.0,), (79.0,), (80.0,), (78.0,), (80.0,), (80.0,), (81.0,), (80.0,), (79.0,), (79.0,), (75.0,), (80.0,), (80.0,), (78.0,), (80.0,), (80.0,), (81.0,), (79.0,), (80.0,), (80.0,), (80.0,), (78.0,), (81.0,), (79.0,), (81.0,), (80.0,), (78.0,), (80.0,), (80.0,), (80.0,), (80.0,), (81.0,), (81.0,), (78.0,), (80.0,), (82.0,), (79.0,), (81.0,), (81.0,), (81.0,), (80.0,), (77.0,), (73.0,), (79.0,), (80.0,), (81.0,), (80.0,), (80.0,), (80.0,), (80.0,), (81.0,), (78.0,), (80.0,), (81.0,), (79.0,), (78.0,), (80.0,), (79.0,), (81.0,), (81.0,), (82.0,), (81.0,), (76.0,), (76.0,), (77.0,), (78.0,), (73.0,), (73.0,), (78.0,), (76.0,), (77.0,), (79.0,), (78.0,), (77.0,), (75.0,), (78.0,), (74.0,), (75.0,), (77.0,), (76.0,), (76.0,), (76.0,), (76.0,), (76.0,), (76.0,), (78.0,), (78.0,), (78.0,), (78.0,), (75.0,), (78.0,), (76.0,), (77.0,), (76.0,), (79.0,), (77.0,), (77.0,), (77.0,), (77.0,), (76.0,), (77.0,), (75.0,), (77.0,), (78.0,), (78.0,), (77.0,), (76.0,), (78.0,), (76.0,), (77.0,), (75.0,), (77.0,), (75.0,), (78.0,), (77.0,), (76.0,), (75.0,), (77.0,), (77.0,), (77.0,), (76.0,), (76.0,), (77.0,), (76.0,), (76.0,), (77.0,), (74.0,), (75.0,), (77.0,), (77.0,), (78.0,), (76.0,), (77.0,), (76.0,), (74.0,), (76.0,), (72.0,), (76.0,), (69.0,), (71.0,), (70.0,), (69.0,), (71.0,), (68.0,), (72.0,), (76.0,), (78.0,), (76.0,), (75.0,), (78.0,), (73.0,), (75.0,), (75.0,), (76.0,), (75.0,), (75.0,), (76.0,), (76.0,), (75.0,), (75.0,), (74.0,), (74.0,), (73.0,), (71.0,), (71.0,), (69.0,), (68.0,), (70.0,), (71.0,), (72.0,), (70.0,), (71.0,), (72.0,), (68.0,), (68.0,), (70.0,), (70.0,), (63.0,), (71.0,), (67.0,), (69.0,), (74.0,), (72.0,), (70.0,), (69.0,), (73.0,), (74.0,), (74.0,), (73.0,), (71.0,), (72.0,), (69.0,), (71.0,), (66.0,), (66.0,), (65.0,), (64.0,), (65.0,), (70.0,), (72.0,), (62.0,), (65.0,), (66.0,), (66.0,), (67.0,), (70.0,), (66.0,), (67.0,), (69.0,), (74.0,), (73.0,), (74.0,), (73.0,), (72.0,), (71.0,), (71.0,), (71.0,), (73.0,), (72.0,), (63.0,), (71.0,), (71.0,), (69.0,), (69.0,), (69.0,), (63.0,), (64.0,), (67.0,), (75.0,), (74.0,), (67.0,), (67.0,), (64.0,), (64.0,), (65.0,), (67.0,), (69.0,), (72.0,), (76.0,), (74.0,), (67.0,), (71.0,), (70.0,), (71.0,), (70.0,), (70.0,), (70.0,), (70.0,), (63.0,), (63.0,), (66.0,), (73.0,), (72.0,), (73.0,), (73.0,), (76.0,), (70.0,), (66.0,), (65.0,), (70.0,), (67.0,), (68.0,), (68.0,), (70.0,), (70.0,), (70.0,), (71.0,), (69.0,), (69.0,), (67.0,), (72.0,), (72.0,), (73.0,), (74.0,), (74.0,), (72.0,), (72.0,), (75.0,), (74.0,), (75.0,), (73.0,), (74.0,), (74.0,), (76.0,), (74.0,), (73.0,), (72.0,), (72.0,), (73.0,), (74.0,), (73.0,), (69.0,), (71.0,), (75.0,), (74.0,), (71.0,), (70.0,), (70.0,), (69.0,), (69.0,), (70.0,), (70.0,), (75.0,), (70.0,), (74.0,), (75.0,), (76.0,), (75.0,), (78.0,), (73.0,), (70.0,), (66.0,), (61.0,), (68.0,), (73.0,), (74.0,), (77.0,), (78.0,), (75.0,), (75.0,), (71.0,), (74.0,), (75.0,), (74.0,), (74.0,), (75.0,), (75.0,), (75.0,), (75.0,), (75.0,), (70.0,), (70.0,), (72.0,), (72.0,), (76.0,), (73.0,), (75.0,), (69.0,), (73.0,), (69.0,), (71.0,), (71.0,), (74.0,), (76.0,), (76.0,), (76.0,), (76.0,), (78.0,), (76.0,), (75.0,), (75.0,), (76.0,), (78.0,), (75.0,), (73.0,), (76.0,), (76.0,), (76.0,), (77.0,), (76.0,), (77.0,), (72.0,), (77.0,), (75.0,), (82.0,), (77.0,), (76.0,), (74.0,), (73.0,), (77.0,), (77.0,), (77.0,), (76.0,), (74.0,), (76.0,), (77.0,), (77.0,), (77.0,), (77.0,), (76.0,), (77.0,), (76.0,), (76.0,), (79.0,), (76.0,), (78.0,), (76.0,), (80.0,), (79.0,), (76.0,), (75.0,), (78.0,), (78.0,), (78.0,), (78.0,), (78.0,), (75.0,), (78.0,), (78.0,), (78.0,), (77.0,), (77.0,), (78.0,), (78.0,), (77.0,), (80.0,), (80.0,), (81.0,), (81.0,), (81.0,), (81.0,), (80.0,), (80.0,), (82.0,), (81.0,), (82.0,), (80.0,), (80.0,), (81.0,), (77.0,), (79.0,), (79.0,), (79.0,), (81.0,), (79.0,), (79.0,), (80.0,), (80.0,), (78.0,), (81.0,), (82.0,), (82.0,), (80.0,), (79.0,), (80.0,), (79.0,), (80.0,), (80.0,), (80.0,), (80.0,), (81.0,), (80.0,), (80.0,), (79.0,), (77.0,), (80.0,), (80.0,), (81.0,), (79.0,), (81.0,), (78.0,), (80.0,), (79.0,), (77.0,), (78.0,), (80.0,), (77.0,), (81.0,), (78.0,), (78.0,), (76.0,), (78.0,), (77.0,), (77.0,), (78.0,), (77.0,), (77.0,), (77.0,), (78.0,), (72.0,), (73.0,), (74.0,), (75.0,), (77.0,), (78.0,), (78.0,), (79.0,), (77.0,), (78.0,), (77.0,), (76.0,), (74.0,), (78.0,), (76.0,), (76.0,), (75.0,), (76.0,), (75.0,), (77.0,), (75.0,), (77.0,), (76.0,), (76.0,), (75.0,), (72.0,), (76.0,), (75.0,), (72.0,), (72.0,), (75.0,), (69.0,), (75.0,), (74.0,), (78.0,), (77.0,), (76.0,), (72.0,), (73.0,), (74.0,), (74.0,), (74.0,), (73.0,), (73.0,), (71.0,), (72.0,), (74.0,), (74.0,), (70.0,), (71.0,), (72.0,), (71.0,), (71.0,), (74.0,), (72.0,), (72.0,), (76.0,), (75.0,), (77.0,), (76.0,), (75.0,), (75.0,), (77.0,), (74.0,), (73.0,), (75.0,), (73.0,), (74.0,), (74.0,), (76.0,), (71.0,), (70.0,), (72.0,), (72.0,), (73.0,), (80.0,), (77.0,), (76.0,), (67.0,), (71.0,), (73.0,), (69.0,), (76.0,), (80.0,), (79.0,), (76.0,), (73.0,), (77.0,), (72.0,), (71.0,), (72.0,), (75.0,), (71.0,), (75.0,), (71.0,), (73.0,), (71.0,), (73.0,), (74.0,), (74.0,), (74.0,), (69.0,), (75.0,), (80.0,), (77.0,), (77.0,), (77.0,), (72.0,), (76.0,), (77.0,), (76.0,), (76.0,), (78.0,), (75.0,), (78.0,), (78.0,), (77.0,), (78.0,), (77.0,), (78.0,), (77.0,), (77.0,), (76.0,), (77.0,), (76.0,), (76.0,), (77.0,), (79.0,), (77.0,), (77.0,), (77.0,), (77.0,), (69.0,), (76.0,), (83.0,), (74.0,), (70.0,), (74.0,), (79.0,), (77.0,), (78.0,), (78.0,), (77.0,), (71.0,), (63.0,), (78.0,), (76.0,), (78.0,), (77.0,), (78.0,), (78.0,), (73.0,), (79.0,), (76.0,), (78.0,), (77.0,), (77.0,), (78.0,), (78.0,), (79.0,), (79.0,), (79.0,), (78.0,), (76.0,), (79.0,), (79.0,), (79.0,), (77.0,), (79.0,), (81.0,), (81.0,), (81.0,), (78.0,), (80.0,), (79.0,), (81.0,), (80.0,), (81.0,), (79.0,), (81.0,), (78.0,), (79.0,), (79.0,), (75.0,), (79.0,), (78.0,), (80.0,), (78.0,), (77.0,), (78.0,), (79.0,), (76.0,), (80.0,), (76.0,), (81.0,), (81.0,), (81.0,), (77.0,), (81.0,), (82.0,), (80.0,), (79.0,), (81.0,), (81.0,), (80.0,), (82.0,), (79.0,), (82.0,), (82.0,), (80.0,), (79.0,), (79.0,), (80.0,), (82.0,), (79.0,), (80.0,), (79.0,), (80.0,), (81.0,), (82.0,), (81.0,), (74.0,), (80.0,), (81.0,), (81.0,), (82.0,), (81.0,), (78.0,), (81.0,), (81.0,), (81.0,), (81.0,), (81.0,), (82.0,), (82.0,), (78.0,), (77.0,), (80.0,), (80.0,), (79.0,), (82.0,), (80.0,), (78.0,), (81.0,), (81.0,), (80.0,), (79.0,), (79.0,), (82.0,), (81.0,), (80.0,), (79.0,), (79.0,), (79.0,), (76.0,), (76.0,), (79.0,), (79.0,), (73.0,), (76.0,), (80.0,), (78.0,), (79.0,), (80.0,), (80.0,), (79.0,), (77.0,), (80.0,), (79.0,), (78.0,), (79.0,), (80.0,), (80.0,), (80.0,), (80.0,), (78.0,), (76.0,), (76.0,), (77.0,), (73.0,), (77.0,), (76.0,), (75.0,), (77.0,), (75.0,), (76.0,), (79.0,), (77.0,), (77.0,), (77.0,), (75.0,), (73.0,), (76.0,), (77.0,), (76.0,), (74.0,), (75.0,), (72.0,), (70.0,), (68.0,), (74.0,), (71.0,), (70.0,), (70.0,), (70.0,), (68.0,), (68.0,), (68.0,), (66.0,), (71.0,), (76.0,), (73.0,), (70.0,), (68.0,), (71.0,), (71.0,), (68.0,), (65.0,), (65.0,), (67.0,), (67.0,), (68.0,), (70.0,), (73.0,), (66.0,), (70.0,), (77.0,), (69.0,), (69.0,), (70.0,), (65.0,), (68.0,), (68.0,), (62.0,), (70.0,), (72.0,), (76.0,), (67.0,), (64.0,), (64.0,), (64.0,), (77.0,), (76.0,), (73.0,), (70.0,), (69.0,), (71.0,), (72.0,), (72.0,), (68.0,), (69.0,), (72.0,), (66.0,), (73.0,), (70.0,), (67.0,), (67.0,), (67.0,), (68.0,), (68.0,), (69.0,), (73.0,), (75.0,), (71.0,), (72.0,), (73.0,), (74.0,), (77.0,), (78.0,), (75.0,), (75.0,), (73.0,), (73.0,), (76.0,), (75.0,), (76.0,), (74.0,), (76.0,), (72.0,), (75.0,), (76.0,), (75.0,), (74.0,), (78.0,), (78.0,), (78.0,), (76.0,), (79.0,), (78.0,), (80.0,), (80.0,), (78.0,), (80.0,), (81.0,), (78.0,), (77.0,), (78.0,), (78.0,), (77.0,), (76.0,), (81.0,), (76.0,), (82.0,), (80.0,), (80.0,), (79.0,), (74.0,), (87.0,), (80.0,), (79.0,), (79.0,), (78.0,), (81.0,), (80.0,), (81.0,), (78.0,), (81.0,), (80.0,), (81.0,), (81.0,), (78.0,), (79.0,), (80.0,), (81.0,), (80.0,), (79.0,), (80.0,), (84.0,), (81.0,), (80.0,), (79.0,), (78.0,), (78.0,), (81.0,), (78.0,), (84.0,), (84.0,), (78.0,), (76.0,), (79.0,), (77.0,), (78.0,), (83.0,), (78.0,), (77.0,), (77.0,), (79.0,), (78.0,), (81.0,), (81.0,), (78.0,), (77.0,), (79.0,), (79.0,), (80.0,), (83.0,), (82.0,), (78.0,), (78.0,), (78.0,), (82.0,), (78.0,), (79.0,), (81.0,), (79.0,), (80.0,), (80.0,), (80.0,), (79.0,), (82.0,), (80.0,), (78.0,), (81.0,), (81.0,), (79.0,), (80.0,), (79.0,), (81.0,), (80.0,), (80.0,), (78.0,), (79.0,), (80.0,), (81.0,), (75.0,), (77.0,), (78.0,), (78.0,), (78.0,), (78.0,), (79.0,), (78.0,), (79.0,), (76.0,), (77.0,), (76.0,), (78.0,), (78.0,), (76.0,), (77.0,), (75.0,), (72.0,), (73.0,), (79.0,), (79.0,), (78.0,), (77.0,), (77.0,), (77.0,), (77.0,), (76.0,), (80.0,), (75.0,), (76.0,), (75.0,), (75.0,), (76.0,), (78.0,), (78.0,), (77.0,), (76.0,), (76.0,), (76.0,), (75.0,), (75.0,), (75.0,), (70.0,), (70.0,), (74.0,), (73.0,), (72.0,), (78.0,), (67.0,), (69.0,), (71.0,), (74.0,), (63.0,), (76.0,), (76.0,), (71.0,), (76.0,), (77.0,), (73.0,), (71.0,), (78.0,), (78.0,), (75.0,), (75.0,), (72.0,), (77.0,), (72.0,), (74.0,), (73.0,), (73.0,), (71.0,), (74.0,), (72.0,), (74.0,), (77.0,), (75.0,), (81.0,), (78.0,), (80.0,), (75.0,), (78.0,), (73.0,), (74.0,), (74.0,), (74.0,), (74.0,), (72.0,), (74.0,), (74.0,), (73.0,), (70.0,), (70.0,), (70.0,), (64.0,), (62.0,), (76.0,), (77.0,), (76.0,), (72.0,), (74.0,), (60.0,), (74.0,), (70.0,), (73.0,), (78.0,), (76.0,), (72.0,), (75.0,), (67.0,), (71.0,), (72.0,), (73.0,), (70.0,), (67.0,), (77.0,), (73.0,), (73.0,), (75.0,), (74.0,), (77.0,), (69.0,), (70.0,), (69.0,), (81.0,), (74.0,), (69.0,), (74.0,), (71.0,), (69.0,), (70.0,), (74.0,), (74.0,), (75.0,), (75.0,), (75.0,), (75.0,), (76.0,), (75.0,), (80.0,), (76.0,), (76.0,), (74.0,), (78.0,), (75.0,), (80.0,), (79.0,), (76.0,), (78.0,), (77.0,), (76.0,), (78.0,), (74.0,), (75.0,), (82.0,), (80.0,), (79.0,), (75.0,), (79.0,), (74.0,), (71.0,), (76.0,), (74.0,), (76.0,), (70.0,), (80.0,), (76.0,), (81.0,), (76.0,), (76.0,), (70.0,), (64.0,), (73.0,), (78.0,), (78.0,), (77.0,), (79.0,), (80.0,), (78.0,), (80.0,), (75.0,), (76.0,), (78.0,), (77.0,), (76.0,), (78.0,), (77.0,), (76.0,), (77.0,), (71.0,), (79.0,), (80.0,), (76.0,), (76.0,), (76.0,), (75.0,), (77.0,), (79.0,), (82.0,), (80.0,), (78.0,), (79.0,), (79.0,), (81.0,), (79.0,), (81.0,), (78.0,), (78.0,), (78.0,), (77.0,), (78.0,), (75.0,), (81.0,), (80.0,), (77.0,), (80.0,), (78.0,), (80.0,), (77.0,), (78.0,), (78.0,), (80.0,), (80.0,), (79.0,), (82.0,), (80.0,), (81.0,), (81.0,), (79.0,), (78.0,), (75.0,), (80.0,), (81.0,), (80.0,), (79.0,), (79.0,), (77.0,), (82.0,), (82.0,), (79.0,), (82.0,), (79.0,), (80.0,), (82.0,), (82.0,), (82.0,), (83.0,), (80.0,), (80.0,), (80.0,), (78.0,), (79.0,), (80.0,), (84.0,), (80.0,), (81.0,), (83.0,), (84.0,), (82.0,), (75.0,), (83.0,), (80.0,), (82.0,), (83.0,), (83.0,), (82.0,), (80.0,), (81.0,), (83.0,), (84.0,), (75.0,), (79.0,), (79.0,), (83.0,), (85.0,), (82.0,), (82.0,), (82.0,), (77.0,), (77.0,), (80.0,), (80.0,), (75.0,), (73.0,), (78.0,), (77.0,), (78.0,), (80.0,), (80.0,), (78.0,), (78.0,), (78.0,), (73.0,), (74.0,), (80.0,), (79.0,), (77.0,), (80.0,), (76.0,), (79.0,), (75.0,), (79.0,), (78.0,), (79.0,), (78.0,), (78.0,), (76.0,), (74.0,), (77.0,), (78.0,), (79.0,), (79.0,), (77.0,), (80.0,), (78.0,), (78.0,), (78.0,), (77.0,), (79.0,), (79.0,), (79.0,), (79.0,), (75.0,), (76.0,), (73.0,), (72.0,), (71.0,), (77.0,), (79.0,), (78.0,), (79.0,), (77.0,), (79.0,), (77.0,), (78.0,), (78.0,), (78.0,), (78.0,), (77.0,), (74.0,), (75.0,), (76.0,), (73.0,), (76.0,), (74.0,), (77.0,), (76.0,), (76.0,), (74.0,), (75.0,), (75.0,), (75.0,), (75.0,), (71.0,), (63.0,), (70.0,), (68.0,), (67.0,), (77.0,), (74.0,), (77.0,), (76.0,), (76.0,), (75.0,), (76.0,), (75.0,), (73.0,), (75.0,), (73.0,), (75.0,), (74.0,), (75.0,), (74.0,), (75.0,), (73.0,), (75.0,), (73.0,), (73.0,), (74.0,), (70.0,), (72.0,), (70.0,), (67.0,), (67.0,), (69.0,), (70.0,), (68.0,), (69.0,), (69.0,), (66.0,), (65.0,), (68.0,), (62.0,), (75.0,), (70.0,), (69.0,), (76.0,), (76.0,), (74.0,), (73.0,), (71.0,), (74.0,), (74.0,), (72.0,), (71.0,), (72.0,), (74.0,), (69.0,), (67.0,), (72.0,), (70.0,), (64.0,), (63.0,), (63.0,), (62.0,), (70.0,), (70.0,), (62.0,), (62.0,), (63.0,), (65.0,), (69.0,), (77.0,), (70.0,), (74.0,), (69.0,), (72.0,), (71.0,), (69.0,), (71.0,), (71.0,), (72.0,), (72.0,), (69.0,), (70.0,), (66.0,), (65.0,), (69.0,), (68.0,), (68.0,), (68.0,), (59.0,), (60.0,), (70.0,), (73.0,), (75.0,), (64.0,), (59.0,), (59.0,), (62.0,), (68.0,), (70.0,), (73.0,), (79.0,), (75.0,), (65.0,), (70.0,), (74.0,), (70.0,), (70.0,), (71.0,), (71.0,), (71.0,), (69.0,), (61.0,), (67.0,), (65.0,), (72.0,), (71.0,), (73.0,), (72.0,), (77.0,), (73.0,), (67.0,), (62.0,), (64.0,), (67.0,), (66.0,), (81.0,), (69.0,), (66.0,), (67.0,), (69.0,), (66.0,), (68.0,), (65.0,), (74.0,), (69.0,), (72.0,), (73.0,), (72.0,), (71.0,), (76.0,), (77.0,), (76.0,), (74.0,), (68.0,), (73.0,), (71.0,), (74.0,), (75.0,), (70.0,), (67.0,), (71.0,), (67.0,), (74.0,), (77.0,), (78.0,), (67.0,), (70.0,), (69.0,), (69.0,), (74.0,), (78.0,), (71.0,), (67.0,), (68.0,), (67.0,), (76.0,), (69.0,), (72.0,), (76.0,), (68.0,), (72.0,), (74.0,), (70.0,), (67.0,), (72.0,), (60.0,), (65.0,), (75.0,), (70.0,), (75.0,), (70.0,), (79.0,), (75.0,), (70.0,), (67.0,), (74.0,), (70.0,), (75.0,), (76.0,), (77.0,), (74.0,), (74.0,), (74.0,), (69.0,), (68.0,), (76.0,), (74.0,), (71.0,), (71.0,), (74.0,), (74.0,), (74.0,), (74.0,), (80.0,), (74.0,), (72.0,), (75.0,), (80.0,), (76.0,), (76.0,), (77.0,), (75.0,), (75.0,), (75.0,), (75.0,), (72.0,), (74.0,), (74.0,), (74.0,), (76.0,), (74.0,), (75.0,), (73.0,), (79.0,), (75.0,), (72.0,), (72.0,), (74.0,), (72.0,), (72.0,), (77.0,), (71.0,), (73.0,), (76.0,), (77.0,), (76.0,), (76.0,), (79.0,), (81.0,), (76.0,), (78.0,), (77.0,), (74.0,), (75.0,), (78.0,), (78.0,), (69.0,), (72.0,), (74.0,), (74.0,), (76.0,), (80.0,), (80.0,), (76.0,), (76.0,), (76.0,), (77.0,), (77.0,), (77.0,), (82.0,), (75.0,), (77.0,), (75.0,), (76.0,), (81.0,), (82.0,), (81.0,), (76.0,), (77.0,), (82.0,), (83.0,), (77.0,), (77.0,), (77.0,), (76.0,), (76.0,), (79.0,), (74.0,), (74.0,), (77.0,), (74.0,), (71.0,), (78.0,), (75.0,), (76.0,), (77.0,), (75.0,), (75.0,), (73.0,), (76.0,), (73.0,), (74.0,), (74.0,), (75.0,), (75.0,), (71.0,), (72.0,), (75.0,), (73.0,), (73.0,), (73.0,), (76.0,), (75.0,), (70.0,), (70.0,), (73.0,), (73.0,), (73.0,), (77.0,), (76.0,), (74.0,), (74.0,), (77.0,), (77.0,), (73.0,), (74.0,), (73.0,), (76.0,), (74.0,), (75.0,), (75.0,), (73.0,), (74.0,), (77.0,), (74.0,), (74.0,), (78.0,), (75.0,), (73.0,), (74.0,), (77.0,), (70.0,), (74.0,), (70.0,), (73.0,), (74.0,), (75.0,), (72.0,), (71.0,), (74.0,), (75.0,), (71.0,), (68.0,), (71.0,), (76.0,), (69.0,), (73.0,), (76.0,), (74.0,), (74.0,), (69.0,), (77.0,), (71.0,), (71.0,), (71.0,), (71.0,), (67.0,), (73.0,), (72.0,), (74.0,), (72.0,), (72.0,), (75.0,), (74.0,), (71.0,), (73.0,), (69.0,), (69.0,), (69.0,), (70.0,), (69.0,), (71.0,), (67.0,), (72.0,), (71.0,), (71.0,), (67.0,), (76.0,), (67.0,), (67.0,), (68.0,), (71.0,), (68.0,), (68.0,), (69.0,), (65.0,), (70.0,), (69.0,), (64.0,), (60.0,), (67.0,), (72.0,), (73.0,), (70.0,), (68.0,), (69.0,), (69.0,), (69.0,), (71.0,), (71.0,), (71.0,), (69.0,), (65.0,), (65.0,), (68.0,), (70.0,), (71.0,), (70.0,), (71.0,), (65.0,), (70.0,), (66.0,), (69.0,), (64.0,), (66.0,), (68.0,), (67.0,), (70.0,), (68.0,), (68.0,), (69.0,), (73.0,), (71.0,), (67.0,), (67.0,), (68.0,), (70.0,), (67.0,), (69.0,), (67.0,), (69.0,), (64.0,), (67.0,), (66.0,), (65.0,), (65.0,), (60.0,), (66.0,), (69.0,), (73.0,), (68.0,), (68.0,), (64.0,), (70.0,), (66.0,), (65.0,), (68.0,), (79.0,), (71.0,), (72.0,), (72.0,), (68.0,), (69.0,), (65.0,), (69.0,), (72.0,), (68.0,), (66.0,), (64.0,), (69.0,), (69.0,), (64.0,), (72.0,), (78.0,), (70.0,), (68.0,), (76.0,), (72.0,), (68.0,), (72.0,), (65.0,), (82.0,), (69.0,), (75.0,), (76.0,), (77.0,), (70.0,), (74.0,), (74.0,), (72.0,), (72.0,), (70.0,), (70.0,), (72.0,), (72.0,), (74.0,), (69.0,), (69.0,), (76.0,), (69.0,), (71.0,), (73.0,), (75.0,), (69.0,), (72.0,), (76.0,), (70.0,), (72.0,), (71.0,), (70.0,), (73.0,), (72.0,), (70.0,), (71.0,), (69.0,), (71.0,), (71.0,), (69.0,), (70.0,), (73.0,), (70.0,), (75.0,), (74.0,), (77.0,), (76.0,), (71.0,), (68.0,), (58.0,), (73.0,), (79.0,), (74.0,), (74.0,), (74.0,), (70.0,), (66.0,), (72.0,), (72.0,), (78.0,), (70.0,), (71.0,), (70.0,), (72.0,), (71.0,), (71.0,), (69.0,), (70.0,), (69.0,), (72.0,), (69.0,), (70.0,), (75.0,), (72.0,), (72.0,), (73.0,), (72.0,), (74.0,), (74.0,), (77.0,), (74.0,), (74.0,), (79.0,), (75.0,), (72.0,), (76.0,), (74.0,), (73.0,), (74.0,), (77.0,), (74.0,), (72.0,), (77.0,), (76.0,), (74.0,), (75.0,), (76.0,), (71.0,), (73.0,), (79.0,), (79.0,), (74.0,), (74.0,), (76.0,), (75.0,), (74.0,), (78.0,), (77.0,), (77.0,), (75.0,), (74.0,), (74.0,), (71.0,), (78.0,), (77.0,), (74.0,), (72.0,), (77.0,), (76.0,), (78.0,), (75.0,), (72.0,), (77.0,), (74.0,), (75.0,), (72.0,), (72.0,), (78.0,), (77.0,), (79.0,), (73.0,), (75.0,), (73.0,), (77.0,), (79.0,), (74.0,), (72.0,), (80.0,), (76.0,), (77.0,), (79.0,), (78.0,), (74.0,), (71.0,), (75.0,), (72.0,), (74.0,), (80.0,), (79.0,), (70.0,), (71.0,), (72.0,), (76.0,), (71.0,), (78.0,), (76.0,), (76.0,), (76.0,)]\n"
     ]
    }
   ],
   "source": [
    "print(results2)"
   ]
  },
  {
   "cell_type": "code",
   "execution_count": 23,
   "metadata": {
    "scrolled": true
   },
   "outputs": [
    {
     "data": {
      "text/html": [
       "<div>\n",
       "<style scoped>\n",
       "    .dataframe tbody tr th:only-of-type {\n",
       "        vertical-align: middle;\n",
       "    }\n",
       "\n",
       "    .dataframe tbody tr th {\n",
       "        vertical-align: top;\n",
       "    }\n",
       "\n",
       "    .dataframe thead th {\n",
       "        text-align: right;\n",
       "    }\n",
       "</style>\n",
       "<table border=\"1\" class=\"dataframe\">\n",
       "  <thead>\n",
       "    <tr style=\"text-align: right;\">\n",
       "      <th></th>\n",
       "      <th>date</th>\n",
       "      <th>precipitation</th>\n",
       "    </tr>\n",
       "    <tr>\n",
       "      <th>date</th>\n",
       "      <th></th>\n",
       "      <th></th>\n",
       "    </tr>\n",
       "  </thead>\n",
       "  <tbody>\n",
       "    <tr>\n",
       "      <th>2016-08-23</th>\n",
       "      <td>2016-08-23</td>\n",
       "      <td>0.00</td>\n",
       "    </tr>\n",
       "    <tr>\n",
       "      <th>2016-08-23</th>\n",
       "      <td>2016-08-23</td>\n",
       "      <td>NaN</td>\n",
       "    </tr>\n",
       "    <tr>\n",
       "      <th>2016-08-23</th>\n",
       "      <td>2016-08-23</td>\n",
       "      <td>1.79</td>\n",
       "    </tr>\n",
       "    <tr>\n",
       "      <th>2016-08-23</th>\n",
       "      <td>2016-08-23</td>\n",
       "      <td>0.05</td>\n",
       "    </tr>\n",
       "    <tr>\n",
       "      <th>2016-08-23</th>\n",
       "      <td>2016-08-23</td>\n",
       "      <td>0.15</td>\n",
       "    </tr>\n",
       "    <tr>\n",
       "      <th>...</th>\n",
       "      <td>...</td>\n",
       "      <td>...</td>\n",
       "    </tr>\n",
       "    <tr>\n",
       "      <th>2017-08-22</th>\n",
       "      <td>2017-08-22</td>\n",
       "      <td>0.00</td>\n",
       "    </tr>\n",
       "    <tr>\n",
       "      <th>2017-08-23</th>\n",
       "      <td>2017-08-23</td>\n",
       "      <td>0.00</td>\n",
       "    </tr>\n",
       "    <tr>\n",
       "      <th>2017-08-23</th>\n",
       "      <td>2017-08-23</td>\n",
       "      <td>0.00</td>\n",
       "    </tr>\n",
       "    <tr>\n",
       "      <th>2017-08-23</th>\n",
       "      <td>2017-08-23</td>\n",
       "      <td>0.08</td>\n",
       "    </tr>\n",
       "    <tr>\n",
       "      <th>2017-08-23</th>\n",
       "      <td>2017-08-23</td>\n",
       "      <td>0.45</td>\n",
       "    </tr>\n",
       "  </tbody>\n",
       "</table>\n",
       "<p>2230 rows × 2 columns</p>\n",
       "</div>"
      ],
      "text/plain": [
       "                  date  precipitation\n",
       "date                                 \n",
       "2016-08-23  2016-08-23           0.00\n",
       "2016-08-23  2016-08-23            NaN\n",
       "2016-08-23  2016-08-23           1.79\n",
       "2016-08-23  2016-08-23           0.05\n",
       "2016-08-23  2016-08-23           0.15\n",
       "...                ...            ...\n",
       "2017-08-22  2017-08-22           0.00\n",
       "2017-08-23  2017-08-23           0.00\n",
       "2017-08-23  2017-08-23           0.00\n",
       "2017-08-23  2017-08-23           0.08\n",
       "2017-08-23  2017-08-23           0.45\n",
       "\n",
       "[2230 rows x 2 columns]"
      ]
     },
     "execution_count": 23,
     "metadata": {},
     "output_type": "execute_result"
    }
   ],
   "source": [
    "# Use Pandas to calcualte the summary statistics for the precipitation data\n",
    "df"
   ]
  },
  {
   "cell_type": "code",
   "execution_count": 24,
   "metadata": {},
   "outputs": [
    {
     "data": {
      "text/plain": [
       "[(9,)]"
      ]
     },
     "execution_count": 24,
     "metadata": {},
     "output_type": "execute_result"
    }
   ],
   "source": [
    "# How many stations are available in this dataset?\n",
    "session.query(func.count(Station.station)).all()"
   ]
  },
  {
   "cell_type": "code",
   "execution_count": 42,
   "metadata": {},
   "outputs": [
    {
     "data": {
      "text/plain": [
       "[('USC00518838', 511),\n",
       " ('USC00517948', 1372),\n",
       " ('USC00511918', 1979),\n",
       " ('USC00514830', 2202),\n",
       " ('USC00516128', 2612),\n",
       " ('USC00519523', 2669),\n",
       " ('USC00513117', 2709),\n",
       " ('USC00519397', 2724),\n",
       " ('USC00519281', 2772)]"
      ]
     },
     "execution_count": 42,
     "metadata": {},
     "output_type": "execute_result"
    }
   ],
   "source": [
    "# What are the most active stations?\n",
    "# List the stations and the counts in descending order.\n",
    "session.query(Measurement.station, func.count(Measurement.station)).\\\n",
    "group_by(Measurement.station).order_by(func.count(Measurement.station)).all()"
   ]
  },
  {
   "cell_type": "code",
   "execution_count": 29,
   "metadata": {},
   "outputs": [
    {
     "data": {
      "text/plain": [
       "[(54.0, 85.0, 71.66378066378067)]"
      ]
     },
     "execution_count": 29,
     "metadata": {},
     "output_type": "execute_result"
    }
   ],
   "source": [
    "# Using the station id from the previous query, calculate the lowest temperature recorded, \n",
    "# highest temperature recorded, and average temperature most active station?\n",
    "session.query(func.min(Measurement.tobs), func.max(Measurement.tobs), func.avg(Measurement.tobs)).\\\n",
    "filter(Measurement.station == 'USC00519281').all()"
   ]
  },
  {
   "cell_type": "code",
   "execution_count": 46,
   "metadata": {},
   "outputs": [
    {
     "data": {
      "text/plain": [
       "{'_sa_instance_state': <sqlalchemy.orm.state.InstanceState at 0x7fb655c7c950>,\n",
       " 'id': 1,\n",
       " 'date': '2010-01-01',\n",
       " 'tobs': 65.0,\n",
       " 'station': 'USC00519397',\n",
       " 'prcp': 0.08}"
      ]
     },
     "execution_count": 46,
     "metadata": {},
     "output_type": "execute_result"
    }
   ],
   "source": [
    "first_row = session.query(Measurement).first()\n",
    "first_row.__dict__"
   ]
  },
  {
   "cell_type": "code",
   "execution_count": 56,
   "metadata": {},
   "outputs": [
    {
     "name": "stdout",
     "output_type": "stream",
     "text": [
      "[(77.0,), (77.0,), (80.0,), (80.0,), (75.0,), (73.0,), (78.0,), (77.0,), (78.0,), (80.0,), (80.0,), (78.0,), (78.0,), (78.0,), (73.0,), (74.0,), (80.0,), (79.0,), (77.0,), (80.0,), (76.0,), (79.0,), (75.0,), (79.0,), (78.0,), (79.0,), (78.0,), (78.0,), (76.0,), (74.0,), (77.0,), (78.0,), (79.0,), (79.0,), (77.0,), (80.0,), (78.0,), (78.0,), (78.0,), (77.0,), (79.0,), (79.0,), (79.0,), (79.0,), (75.0,), (76.0,), (73.0,), (72.0,), (71.0,), (77.0,), (79.0,), (78.0,), (79.0,), (77.0,), (79.0,), (77.0,), (78.0,), (78.0,), (78.0,), (78.0,), (77.0,), (74.0,), (75.0,), (76.0,), (73.0,), (76.0,), (74.0,), (77.0,), (76.0,), (76.0,), (74.0,), (75.0,), (75.0,), (75.0,), (75.0,), (71.0,), (63.0,), (70.0,), (68.0,), (67.0,), (77.0,), (74.0,), (77.0,), (76.0,), (76.0,), (75.0,), (76.0,), (75.0,), (73.0,), (75.0,), (73.0,), (75.0,), (74.0,), (75.0,), (74.0,), (75.0,), (73.0,), (75.0,), (73.0,), (73.0,), (74.0,), (70.0,), (72.0,), (70.0,), (67.0,), (67.0,), (69.0,), (70.0,), (68.0,), (69.0,), (69.0,), (66.0,), (65.0,), (68.0,), (62.0,), (75.0,), (70.0,), (69.0,), (76.0,), (76.0,), (74.0,), (73.0,), (71.0,), (74.0,), (74.0,), (72.0,), (71.0,), (72.0,), (74.0,), (69.0,), (67.0,), (72.0,), (70.0,), (64.0,), (63.0,), (63.0,), (62.0,), (70.0,), (70.0,), (62.0,), (62.0,), (63.0,), (65.0,), (69.0,), (77.0,), (70.0,), (74.0,), (69.0,), (72.0,), (71.0,), (69.0,), (71.0,), (71.0,), (72.0,), (72.0,), (69.0,), (70.0,), (66.0,), (65.0,), (69.0,), (68.0,), (68.0,), (68.0,), (59.0,), (60.0,), (70.0,), (73.0,), (75.0,), (64.0,), (59.0,), (59.0,), (62.0,), (68.0,), (70.0,), (73.0,), (79.0,), (75.0,), (65.0,), (70.0,), (74.0,), (70.0,), (70.0,), (71.0,), (71.0,), (71.0,), (69.0,), (61.0,), (67.0,), (65.0,), (72.0,), (71.0,), (73.0,), (72.0,), (77.0,), (73.0,), (67.0,), (62.0,), (64.0,), (67.0,), (66.0,), (81.0,), (69.0,), (66.0,), (67.0,), (69.0,), (66.0,), (68.0,), (65.0,), (74.0,), (69.0,), (72.0,), (73.0,), (72.0,), (71.0,), (76.0,), (77.0,), (76.0,), (74.0,), (68.0,), (73.0,), (71.0,), (74.0,), (75.0,), (70.0,), (67.0,), (71.0,), (67.0,), (74.0,), (77.0,), (78.0,), (67.0,), (70.0,), (69.0,), (69.0,), (74.0,), (78.0,), (71.0,), (67.0,), (68.0,), (67.0,), (76.0,), (69.0,), (72.0,), (76.0,), (68.0,), (72.0,), (74.0,), (70.0,), (67.0,), (72.0,), (60.0,), (65.0,), (75.0,), (70.0,), (75.0,), (70.0,), (79.0,), (75.0,), (70.0,), (67.0,), (74.0,), (70.0,), (75.0,), (76.0,), (77.0,), (74.0,), (74.0,), (74.0,), (69.0,), (68.0,), (76.0,), (74.0,), (71.0,), (71.0,), (74.0,), (74.0,), (74.0,), (74.0,), (80.0,), (74.0,), (72.0,), (75.0,), (80.0,), (76.0,), (76.0,), (77.0,), (75.0,), (75.0,), (75.0,), (75.0,), (72.0,), (74.0,), (74.0,), (74.0,), (76.0,), (74.0,), (75.0,), (73.0,), (79.0,), (75.0,), (72.0,), (72.0,), (74.0,), (72.0,), (72.0,), (77.0,), (71.0,), (73.0,), (76.0,), (77.0,), (76.0,), (76.0,), (79.0,), (81.0,), (76.0,), (78.0,), (77.0,), (74.0,), (75.0,), (78.0,), (78.0,), (69.0,), (72.0,), (74.0,), (74.0,), (76.0,), (80.0,), (80.0,), (76.0,), (76.0,), (76.0,), (77.0,), (77.0,), (77.0,), (82.0,), (75.0,), (77.0,), (75.0,), (76.0,), (81.0,), (82.0,), (81.0,), (76.0,), (77.0,), (82.0,), (83.0,), (77.0,), (77.0,), (77.0,), (76.0,), (76.0,), (79.0,)]\n"
     ]
    }
   ],
   "source": [
    "# Choose the station with the highest number of temperature observations.\n",
    "# Query the last 12 months of temperature observation data for this station and plot the results as a histogram\n",
    "results = session.query(Measurement.tobs).\\\n",
    "filter(Measurement.station == 'USC00519281').filter(Measurement.date >= prev_year).all()\n",
    "print(results)"
   ]
  },
  {
   "cell_type": "code",
   "execution_count": 57,
   "metadata": {},
   "outputs": [],
   "source": [
    "df = pd.DataFrame(results, columns=['tobs'])"
   ]
  },
  {
   "cell_type": "code",
   "execution_count": 59,
   "metadata": {},
   "outputs": [
    {
     "name": "stdout",
     "output_type": "stream",
     "text": [
      "     tobs\n",
      "0    77.0\n",
      "1    77.0\n",
      "2    80.0\n",
      "3    80.0\n",
      "4    75.0\n",
      "..    ...\n",
      "347  77.0\n",
      "348  77.0\n",
      "349  76.0\n",
      "350  76.0\n",
      "351  79.0\n",
      "\n",
      "[352 rows x 1 columns]\n"
     ]
    },
    {
     "data": {
      "image/png": "[encoded data removed]",
      "text/plain": [
       "<Figure size 432x288 with 1 Axes>"
      ]
     },
     "metadata": {},
     "output_type": "display_data"
    }
   ],
   "source": [
    "print(df)\n",
    "df.plot.hist(bins=12)\n",
    "plt.tight_layout()"
   ]
  },
  {
   "cell_type": "code",
   "execution_count": 61,
   "metadata": {},
   "outputs": [
    {
     "data": {
      "image/png": "[encoded data removed]",
      "text/plain": [
       "<Figure size 432x288 with 1 Axes>"
      ]
     },
     "metadata": {},
     "output_type": "display_data"
    }
   ],
   "source": [
    "df.plot.hist(bins=5)\n",
    "plt.tight_layout()"
   ]
  },
  {
   "cell_type": "code",
   "execution_count": 62,
   "metadata": {},
   "outputs": [
    {
     "data": {
      "image/png": "[encoded data removed]",
      "text/plain": [
       "<Figure size 432x288 with 1 Axes>"
      ]
     },
     "metadata": {},
     "output_type": "display_data"
    }
   ],
   "source": [
    "df.plot.hist(bins=20)\n",
    "plt.tight_layout()"
   ]
  },
  {
   "cell_type": "code",
   "execution_count": null,
   "metadata": {},
   "outputs": [],
   "source": [
    "# Write a function called `calc_temps` that will accept start date and end date in the format '%Y-%m-%d' \n",
    "# and return the minimum, average, and maximum temperatures for that range of dates\n"
   ]
  },
  {
   "cell_type": "markdown",
   "metadata": {},
   "source": [
    "# Challenge"
   ]
  },
  {
   "cell_type": "code",
   "execution_count": null,
   "metadata": {},
   "outputs": [],
   "source": []
  }
 ],
 "metadata": {
  "kernelspec": {
   "display_name": "PythonData",
   "language": "python",
   "name": "pythondata"
  },
  "language_info": {
   "codemirror_mode": {
    "name": "ipython",
    "version": 3
   },
   "file_extension": ".py",
   "mimetype": "text/x-python",
   "name": "python",
   "nbconvert_exporter": "python",
   "pygments_lexer": "ipython3",
   "version": "3.7.11"
  }
 },
 "nbformat": 4,
 "nbformat_minor": 2
}
